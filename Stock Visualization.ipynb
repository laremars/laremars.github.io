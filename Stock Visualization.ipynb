{
 "cells": [
  {
   "cell_type": "code",
   "execution_count": 288,
   "metadata": {},
   "outputs": [],
   "source": [
    "import ipywidgets as widgets"
   ]
  },
  {
   "cell_type": "code",
   "execution_count": 289,
   "metadata": {},
   "outputs": [],
   "source": [
    "import pandas as pd\n",
    "import yfinance as yf\n",
    "import yahoofinancials"
   ]
  },
  {
   "cell_type": "code",
   "execution_count": 290,
   "metadata": {},
   "outputs": [],
   "source": [
    "import bs4 as bs\n",
    "import pickle\n",
    "import requests"
   ]
  },
  {
   "cell_type": "code",
   "execution_count": 291,
   "metadata": {},
   "outputs": [],
   "source": [
    "import hvplot.pandas"
   ]
  },
  {
   "cell_type": "code",
   "execution_count": 292,
   "metadata": {},
   "outputs": [],
   "source": [
    "import datetime"
   ]
  },
  {
   "cell_type": "code",
   "execution_count": 293,
   "metadata": {},
   "outputs": [],
   "source": [
    "def save_sp500_tickers():\n",
    "    resp = requests.get('http://en.wikipedia.org/wiki/List_of_S%26P_500_companies')\n",
    "    soup = bs.BeautifulSoup(resp.text, 'lxml')\n",
    "    table = soup.find('table', {'class': 'wikitable sortable'})\n",
    "    tickers = []\n",
    "    for row in table.findAll('tr')[1:]:\n",
    "        ticker = row.findAll('td')[0].text\n",
    "        tickers.append(ticker)\n",
    "        \n",
    "#     with open(\"sp500tickers.pickle\",\"wb\") as f:\n",
    "#         pickle.dump(tickers,f)\n",
    "        \n",
    "    return tickers\n",
    "\n",
    "abbr_list = save_sp500_tickers()\n",
    "abbr_list = [f.strip() for f in abbr_list]\n",
    "\n",
    "column_list = ['all', 'Open', 'High', 'Low', 'Close', 'Adj Close', 'Volume']"
   ]
  },
  {
   "cell_type": "code",
   "execution_count": null,
   "metadata": {},
   "outputs": [],
   "source": []
  },
  {
   "cell_type": "code",
   "execution_count": 315,
   "metadata": {},
   "outputs": [],
   "source": [
    "abbr_widget = widgets.Dropdown(options=[(i, i) for i in abbr_list])\n",
    "manual_abbr = widgets.Text()\n",
    "column_widget = widgets.Dropdown(options=column_list)\n",
    "\n",
    "plot_layout = widgets.Layout(display='flex',\n",
    "#                     flex_flow='space-between',\n",
    "    justify_content='space-between',\n",
    "                    width='100%')\n",
    "\n",
    "plot_out = widgets.Output(layout=plot_layout)\n",
    "\n",
    "box_layout = widgets.Layout(display='flex',\n",
    "#                     flex_flow='space-between',\n",
    "    justify_content='space-between',\n",
    "                    width='50%')\n",
    "# box_layout = widgets.Layout(display='flex',\n",
    "#                     flex_flow='column',\n",
    "#                     align_items='stretch',\n",
    "#                     border='solid',\n",
    "#                     width='50%')\n",
    "\n",
    "plot_size_widget = widgets.IntSlider(value=700, min=350, max=1500, step=50)\n",
    "date_start = widgets.DatePicker(value=datetime.datetime.today() - datetime.timedelta(days=30))\n",
    "date_end = widgets.DatePicker(value=datetime.datetime.today())\n",
    "submit = widgets.Button(description='Generate Plot', button_style='success')\n",
    "\n",
    "def manual_abbr_submit(change):\n",
    "    print(change)\n",
    "    \n",
    "# manual_abbr.observe(manual_abbr_submit)\n",
    "manual_abbr.unobserve_all()\n",
    "\n",
    "def submit_func(button):\n",
    "    abbr = abbr_widget.value if len(manual_abbr.value) == 0 else manual_abbr.value#give the manual input precedence\n",
    "    column = column_widget.value if column_widget.value != 'all' else ['Open', 'High', 'Low', 'Close', 'Adj Close']\n",
    "\n",
    "    df = yf.download(\n",
    "        abbr, \n",
    "        start=datetime.datetime.strftime(date_start.value, '%Y-%m-%d'), \n",
    "        end=datetime.datetime.strftime(date_end.value, '%Y-%m-%d'), \n",
    "        progress=False\n",
    "    )\n",
    "    with plot_out:\n",
    "        display(df[column].hvplot(title=abbr, hover_cols='all', width=plot_size_widget.value, height=int((3/7)*plot_size_widget.value)))\n",
    "    plot_out.clear_output(wait=True)\n",
    "    \n",
    "submit.on_click(submit_func)\n",
    "\n"
   ]
  },
  {
   "cell_type": "code",
   "execution_count": 316,
   "metadata": {},
   "outputs": [],
   "source": [
    "abbr_widget.unobserve_all()"
   ]
  },
  {
   "cell_type": "code",
   "execution_count": 317,
   "metadata": {},
   "outputs": [],
   "source": [
    "def viz_func(change):\n",
    "#     print(change['name'])\n",
    "    if change['name'] != 'index':\n",
    "        return\n",
    "    abbr = abbr_list[change['new']]\n",
    "    column = column_widget.value if column_widget.value != 'all' else ['Open', 'High', 'Low', 'Close', 'Adj Close']\n",
    "    df = yf.download(\n",
    "        abbr, \n",
    "        start=datetime.datetime.strftime(date_start.value, '%Y-%m-%d'), \n",
    "        end=datetime.datetime.strftime(date_end.value, '%Y-%m-%d'), \n",
    "        progress=False\n",
    "    )\n",
    "    with plot_out:\n",
    "#         display(df[column_widget.value].hvplot.line(hover_cols='all', width=1400, height=600))\n",
    "        display(df[column].hvplot.line(title=abbr, hover_cols='all', width=plot_size_widget.value, height=int((3/7)*plot_size_widget.value)))\n",
    "    plot_out.clear_output(wait=True)\n",
    "#     print(change['name'], change.keys())\n",
    "#     print(change)"
   ]
  },
  {
   "cell_type": "code",
   "execution_count": 318,
   "metadata": {},
   "outputs": [],
   "source": [
    "# hvplot.help('line')"
   ]
  },
  {
   "cell_type": "code",
   "execution_count": 319,
   "metadata": {},
   "outputs": [],
   "source": [
    "abbr_widget.observe(viz_func)"
   ]
  },
  {
   "cell_type": "code",
   "execution_count": 320,
   "metadata": {},
   "outputs": [
    {
     "data": {
      "application/vnd.jupyter.widget-view+json": {
       "model_id": "03b9c329bc56440bbfe4bae9f5e0f6c3",
       "version_major": 2,
       "version_minor": 0
      },
      "text/plain": [
       "HTML(value='<h1 style=\"font-family: Default-Monospace; color:navy;\">Devan\\'s Stock Visualization Application</…"
      ]
     },
     "metadata": {},
     "output_type": "display_data"
    }
   ],
   "source": [
    "widgets.HTML(value='<h1 style=\"font-family: Default-Monospace; color:navy;\">Devan\\'s Stock Visualization Application</h1>')"
   ]
  },
  {
   "cell_type": "code",
   "execution_count": 321,
   "metadata": {},
   "outputs": [
    {
     "data": {
      "application/vnd.jupyter.widget-view+json": {
       "model_id": "5297d7977ed9499790e8ffcad153bda0",
       "version_major": 2,
       "version_minor": 0
      },
      "text/plain": [
       "VBox(children=(HBox(children=(Label(value='Stock Abbreviation'), Dropdown(options=(('MMM', 'MMM'), ('ABT', 'AB…"
      ]
     },
     "metadata": {},
     "output_type": "display_data"
    },
    {
     "data": {
      "application/vnd.jupyter.widget-view+json": {
       "model_id": "4139f97e956c4180bf1f12cce1f72638",
       "version_major": 2,
       "version_minor": 0
      },
      "text/plain": [
       "Layout(display='flex', justify_content='space-between', width='50%')"
      ]
     },
     "metadata": {},
     "output_type": "display_data"
    }
   ],
   "source": [
    "display(widgets.VBox(\n",
    "    [\n",
    "        widgets.HBox([widgets.Label('Stock Abbreviation'), abbr_widget], layout=box_layout),\n",
    "        widgets.HBox([widgets.Label('Unlisted Abbreviation'), manual_abbr], layout=box_layout),\n",
    "        widgets.HBox([widgets.Label('Data Facet'), column_widget], layout=box_layout),\n",
    "        widgets.HBox([widgets.Label('Start Date'), date_start], layout=box_layout),\n",
    "        widgets.HBox([widgets.Label('End Date'), date_end], layout=box_layout),\n",
    "        widgets.HBox([widgets.Label('Plot Size'), plot_size_widget], layout=box_layout),\n",
    "        widgets.HBox([widgets.Label(''), submit], layout=box_layout),\n",
    "        plot_out,\n",
    "    ]\n",
    "), box_layout)"
   ]
  },
  {
   "cell_type": "code",
   "execution_count": null,
   "metadata": {},
   "outputs": [],
   "source": []
  },
  {
   "cell_type": "code",
   "execution_count": null,
   "metadata": {},
   "outputs": [],
   "source": []
  },
  {
   "cell_type": "code",
   "execution_count": null,
   "metadata": {},
   "outputs": [],
   "source": []
  }
 ],
 "metadata": {
  "kernelspec": {
   "display_name": "Python 3",
   "language": "python",
   "name": "python3"
  },
  "language_info": {
   "codemirror_mode": {
    "name": "ipython",
    "version": 3
   },
   "file_extension": ".py",
   "mimetype": "text/x-python",
   "name": "python",
   "nbconvert_exporter": "python",
   "pygments_lexer": "ipython3",
   "version": "3.7.4"
  }
 },
 "nbformat": 4,
 "nbformat_minor": 2
}
